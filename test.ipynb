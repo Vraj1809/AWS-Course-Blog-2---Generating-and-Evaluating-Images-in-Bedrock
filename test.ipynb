{
 "cells": [
  {
   "cell_type": "code",
   "execution_count": null,
   "metadata": {},
   "outputs": [],
   "source": [
    "# Prepare the request payload for Titan Image Generator G1 v2\n",
    "body = json.dumps({\n",
    "    \"taskType\": \"IMAGE_VARIATION\",  # Using image-to-image variation\n",
    "    \"imageVariationParams\": {\n",
    "        \"text\" : new_prompt,\n",
    "        \"images\": [base64_image],  # Providing the input image as base64\n",
    "        \"similarityStrength\" : 0.9\n",
    "    },\n",
    "    \"imageGenerationConfig\": {\n",
    "        \"numberOfImages\": 1,\n",
    "        \"height\": 1024,\n",
    "        \"width\": 1024,\n",
    "        \"cfgScale\": 8.0,\n",
    "        \"seed\": seed\n",
    "    }\n",
    "})"
   ]
  }
 ],
 "metadata": {
  "language_info": {
   "name": "python"
  }
 },
 "nbformat": 4,
 "nbformat_minor": 2
}
